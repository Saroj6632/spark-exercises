{
 "cells": [
  {
   "cell_type": "code",
   "execution_count": 1,
   "id": "c7a3f1c6",
   "metadata": {},
   "outputs": [],
   "source": [
    "from pyspark.sql import SparkSession\n",
    "from pyspark.sql.functions import *\n",
    "import pandas as pd\n",
    "import numpy as np\n",
    "from pydataset import data"
   ]
  },
  {
   "cell_type": "code",
   "execution_count": 5,
   "id": "78f5d974",
   "metadata": {},
   "outputs": [
    {
     "name": "stderr",
     "output_type": "stream",
     "text": [
      "Setting default log level to \"WARN\".\n",
      "To adjust logging level use sc.setLogLevel(newLevel). For SparkR, use setLogLevel(newLevel).\n"
     ]
    },
    {
     "name": "stdout",
     "output_type": "stream",
     "text": [
      "22/09/12 16:31:41 WARN NativeCodeLoader: Unable to load native-hadoop library for your platform... using builtin-java classes where applicable\n",
      "22/09/12 16:31:43 WARN Utils: Service 'SparkUI' could not bind on port 4040. Attempting port 4041.\n"
     ]
    }
   ],
   "source": [
    "spark= SparkSession.builder.getOrCreate()"
   ]
  },
  {
   "cell_type": "markdown",
   "id": "a3943372",
   "metadata": {},
   "source": [
    "# Read the case, department, and source data into their own spark dataframes."
   ]
  },
  {
   "cell_type": "code",
   "execution_count": 6,
   "id": "dea868ed",
   "metadata": {},
   "outputs": [
    {
     "name": "stderr",
     "output_type": "stream",
     "text": [
      "                                                                                \r"
     ]
    }
   ],
   "source": [
    "# read case csv\n",
    "case_df= spark.read.csv('case.csv', sep=',',header=True, inferSchema=True)\n",
    "\n"
   ]
  },
  {
   "cell_type": "code",
   "execution_count": 10,
   "id": "25467b34",
   "metadata": {},
   "outputs": [
    {
     "name": "stdout",
     "output_type": "stream",
     "text": [
      "-RECORD 0------------------------------------\n",
      " case_id              | 1014127332           \n",
      " case_opened_date     | 1/1/18 0:42          \n",
      " case_closed_date     | 1/1/18 12:29         \n",
      " SLA_due_date         | 9/26/20 0:42         \n",
      " case_late            | NO                   \n",
      " num_days_late        | -998.5087616000001   \n",
      " case_closed          | YES                  \n",
      " dept_division        | Field Operations     \n",
      " service_request_type | Stray Animal         \n",
      " SLA_days             | 999.0                \n",
      " case_status          | Closed               \n",
      " source_id            | svcCRMLS             \n",
      " request_address      | 2315  EL PASO ST,... \n",
      " council_district     | 5                    \n",
      "-RECORD 1------------------------------------\n",
      " case_id              | 1014127333           \n",
      " case_opened_date     | 1/1/18 0:46          \n",
      " case_closed_date     | 1/3/18 8:11          \n",
      " SLA_due_date         | 1/5/18 8:30          \n",
      " case_late            | NO                   \n",
      " num_days_late        | -2.0126041669999997  \n",
      " case_closed          | YES                  \n",
      " dept_division        | Storm Water          \n",
      " service_request_type | Removal Of Obstru... \n",
      " SLA_days             | 4.322222222          \n",
      " case_status          | Closed               \n",
      " source_id            | svcCRMSS             \n",
      " request_address      | 2215  GOLIAD RD, ... \n",
      " council_district     | 3                    \n",
      "-RECORD 2------------------------------------\n",
      " case_id              | 1014127334           \n",
      " case_opened_date     | 1/1/18 0:48          \n",
      " case_closed_date     | 1/2/18 7:57          \n",
      " SLA_due_date         | 1/5/18 8:30          \n",
      " case_late            | NO                   \n",
      " num_days_late        | -3.022337963         \n",
      " case_closed          | YES                  \n",
      " dept_division        | Storm Water          \n",
      " service_request_type | Removal Of Obstru... \n",
      " SLA_days             | 4.320729167          \n",
      " case_status          | Closed               \n",
      " source_id            | svcCRMSS             \n",
      " request_address      | 102  PALFREY ST W... \n",
      " council_district     | 3                    \n",
      "only showing top 3 rows\n",
      "\n"
     ]
    }
   ],
   "source": [
    "case_df.show(3, vertical= True)"
   ]
  },
  {
   "cell_type": "code",
   "execution_count": 8,
   "id": "9cbd9d9a",
   "metadata": {},
   "outputs": [],
   "source": [
    "#read source csv\n",
    "source_df= spark.read.csv('source.csv', sep=',',header=True, inferSchema=True)"
   ]
  },
  {
   "cell_type": "code",
   "execution_count": 13,
   "id": "bbaa91b4",
   "metadata": {},
   "outputs": [
    {
     "name": "stdout",
     "output_type": "stream",
     "text": [
      "-RECORD 0---------------------------\n",
      " source_id       | 100137           \n",
      " source_username | Merlene Blodgett \n",
      "-RECORD 1---------------------------\n",
      " source_id       | 103582           \n",
      " source_username | Carmen Cura      \n",
      "-RECORD 2---------------------------\n",
      " source_id       | 106463           \n",
      " source_username | Richard Sanchez  \n",
      "-RECORD 3---------------------------\n",
      " source_id       | 119403           \n",
      " source_username | Betty De Hoyos   \n",
      "-RECORD 4---------------------------\n",
      " source_id       | 119555           \n",
      " source_username | Socorro Quiara   \n",
      "only showing top 5 rows\n",
      "\n"
     ]
    }
   ],
   "source": [
    "source_df.show(5,vertical= True)\n"
   ]
  },
  {
   "cell_type": "code",
   "execution_count": 9,
   "id": "cebef2c6",
   "metadata": {},
   "outputs": [],
   "source": [
    "# read department csv from local diretory\n",
    "dept_df= spark.read.csv('dept.csv', sep=',',header=True, inferSchema=True)"
   ]
  },
  {
   "cell_type": "code",
   "execution_count": 14,
   "id": "2d62ca55",
   "metadata": {},
   "outputs": [
    {
     "name": "stdout",
     "output_type": "stream",
     "text": [
      "-RECORD 0--------------------------------------\n",
      " dept_division          | 311 Call Center      \n",
      " dept_name              | Customer Service     \n",
      " standardized_dept_name | Customer Service     \n",
      " dept_subject_to_SLA    | YES                  \n",
      "-RECORD 1--------------------------------------\n",
      " dept_division          | Brush                \n",
      " dept_name              | Solid Waste Manag... \n",
      " standardized_dept_name | Solid Waste          \n",
      " dept_subject_to_SLA    | YES                  \n",
      "-RECORD 2--------------------------------------\n",
      " dept_division          | Clean and Green      \n",
      " dept_name              | Parks and Recreation \n",
      " standardized_dept_name | Parks & Recreation   \n",
      " dept_subject_to_SLA    | YES                  \n",
      "-RECORD 3--------------------------------------\n",
      " dept_division          | Clean and Green N... \n",
      " dept_name              | Parks and Recreation \n",
      " standardized_dept_name | Parks & Recreation   \n",
      " dept_subject_to_SLA    | YES                  \n",
      "-RECORD 4--------------------------------------\n",
      " dept_division          | Code Enforcement     \n",
      " dept_name              | Code Enforcement ... \n",
      " standardized_dept_name | DSD/Code Enforcement \n",
      " dept_subject_to_SLA    | YES                  \n",
      "only showing top 5 rows\n",
      "\n"
     ]
    }
   ],
   "source": [
    "dept_df.show(5, vertical= True)"
   ]
  },
  {
   "cell_type": "markdown",
   "id": "9602a848",
   "metadata": {},
   "source": [
    "# Let's see how writing to the local disk works in spark:\n",
    "\n",
    "### - Write the code necessary to store the source data in both csv and json format, store these as sources_csv and sources_json\n",
    "### - Inspect your folder structure. What do you notice?"
   ]
  },
  {
   "cell_type": "code",
   "execution_count": 16,
   "id": "3666241b",
   "metadata": {},
   "outputs": [],
   "source": [
    "#source data saved to json format.\n",
    "source_df.write.json('source_json', mode='overwrite')"
   ]
  },
  {
   "cell_type": "code",
   "execution_count": 18,
   "id": "e6c192d6",
   "metadata": {},
   "outputs": [],
   "source": [
    "# source data save to _csv\n",
    "source_df.write.csv('source_csv', mode='overwrite')"
   ]
  },
  {
   "cell_type": "markdown",
   "id": "ac6b4338",
   "metadata": {},
   "source": [
    "- upon inspecting the files saved it actually created a folder inside of which there were multiple files."
   ]
  },
  {
   "cell_type": "markdown",
   "id": "a5a8b5e3",
   "metadata": {},
   "source": [
    "## Inspect the data in your dataframes. Are the data types appropriate? Write the code necessary to cast the values to the appropriate types.\n",
    "\n"
   ]
  },
  {
   "cell_type": "code",
   "execution_count": 20,
   "id": "fc075b5b",
   "metadata": {},
   "outputs": [],
   "source": [
    "files=[case_df, source_df,dept_df]"
   ]
  },
  {
   "cell_type": "code",
   "execution_count": 23,
   "id": "03d60a7d",
   "metadata": {},
   "outputs": [
    {
     "name": "stdout",
     "output_type": "stream",
     "text": [
      "DataFrame[case_id: int, case_opened_date: string, case_closed_date: string, SLA_due_date: string, case_late: string, num_days_late: double, case_closed: string, dept_division: string, service_request_type: string, SLA_days: double, case_status: string, source_id: string, request_address: string, council_district: int]\n",
      "-------------------\n",
      "root\n",
      " |-- case_id: integer (nullable = true)\n",
      " |-- case_opened_date: string (nullable = true)\n",
      " |-- case_closed_date: string (nullable = true)\n",
      " |-- SLA_due_date: string (nullable = true)\n",
      " |-- case_late: string (nullable = true)\n",
      " |-- num_days_late: double (nullable = true)\n",
      " |-- case_closed: string (nullable = true)\n",
      " |-- dept_division: string (nullable = true)\n",
      " |-- service_request_type: string (nullable = true)\n",
      " |-- SLA_days: double (nullable = true)\n",
      " |-- case_status: string (nullable = true)\n",
      " |-- source_id: string (nullable = true)\n",
      " |-- request_address: string (nullable = true)\n",
      " |-- council_district: integer (nullable = true)\n",
      "\n",
      "None\n",
      "DataFrame[source_id: string, source_username: string]\n",
      "-------------------\n",
      "root\n",
      " |-- source_id: string (nullable = true)\n",
      " |-- source_username: string (nullable = true)\n",
      "\n",
      "None\n",
      "DataFrame[dept_division: string, dept_name: string, standardized_dept_name: string, dept_subject_to_SLA: string]\n",
      "-------------------\n",
      "root\n",
      " |-- dept_division: string (nullable = true)\n",
      " |-- dept_name: string (nullable = true)\n",
      " |-- standardized_dept_name: string (nullable = true)\n",
      " |-- dept_subject_to_SLA: string (nullable = true)\n",
      "\n",
      "None\n"
     ]
    }
   ],
   "source": [
    "# check the datatypes\n",
    "for file in files:\n",
    "    print(file)\n",
    "    print('-------------------')\n",
    "    print(file.printSchema())"
   ]
  },
  {
   "cell_type": "markdown",
   "id": "89a2f9e2",
   "metadata": {},
   "source": [
    "#### Upon checking the types ,case_df some changes needs to be done. Other two(source and dept )df have appropriate types."
   ]
  },
  {
   "cell_type": "code",
   "execution_count": 22,
   "id": "55426ebb",
   "metadata": {},
   "outputs": [
    {
     "name": "stdout",
     "output_type": "stream",
     "text": [
      "-RECORD 0------------------------------------\n",
      " case_id              | 1014127332           \n",
      " case_opened_date     | 1/1/18 0:42          \n",
      " case_closed_date     | 1/1/18 12:29         \n",
      " SLA_due_date         | 9/26/20 0:42         \n",
      " case_late            | NO                   \n",
      " num_days_late        | -998.5087616000001   \n",
      " case_closed          | YES                  \n",
      " dept_division        | Field Operations     \n",
      " service_request_type | Stray Animal         \n",
      " SLA_days             | 999.0                \n",
      " case_status          | Closed               \n",
      " source_id            | svcCRMLS             \n",
      " request_address      | 2315  EL PASO ST,... \n",
      " council_district     | 5                    \n",
      "only showing top 1 row\n",
      "\n",
      "22/09/12 17:19:02 WARN HeartbeatReceiver: Removing executor driver with no recent heartbeats: 206716 ms exceeds timeout 120000 ms\n",
      "22/09/12 17:19:02 WARN SparkContext: Killing executors is not supported by current scheduler.\n"
     ]
    }
   ],
   "source": [
    "case_df.show(1, vertical=True)"
   ]
  },
  {
   "cell_type": "markdown",
   "id": "9f5d684f",
   "metadata": {},
   "source": [
    "#### Things we can change in case_df spark dataframe\n",
    "\n",
    "- change the data type for case id from a integer to string\n",
    "- change the data type of the date to datatime stamp\n",
    "- change the column name for SLA_due date to case due date\n",
    "- convert case late and case closed to boolean data type"
   ]
  },
  {
   "cell_type": "code",
   "execution_count": 25,
   "id": "20be43cc",
   "metadata": {},
   "outputs": [],
   "source": [
    "#rename the column SLA to case due date\n",
    "case_df= case_df.withColumnRenamed('SLA_due_date','case_due_date')"
   ]
  },
  {
   "cell_type": "code",
   "execution_count": 27,
   "id": "11472953",
   "metadata": {},
   "outputs": [],
   "source": [
    "# convert the date to datestamp\n",
    "fmt = \"M/d/yy H:mm\"\n",
    "case_df = (\n",
    "    case_df.withColumn(\"case_opened_date\", to_timestamp(\"case_opened_date\", fmt))\n",
    "    .withColumn(\"case_closed_date\", to_timestamp(\"case_opened_date\", fmt))\n",
    "    .withColumn(\"case_due_date\", to_timestamp(\"case_opened_date\", fmt))\n",
    ")"
   ]
  },
  {
   "cell_type": "code",
   "execution_count": 29,
   "id": "e43c4dce",
   "metadata": {},
   "outputs": [
    {
     "name": "stdout",
     "output_type": "stream",
     "text": [
      "+-------------------+-------------------+-------------------+\n",
      "|   case_opened_date|   case_closed_date|      case_due_date|\n",
      "+-------------------+-------------------+-------------------+\n",
      "|2018-01-01 00:42:00|2018-01-01 00:42:00|2018-01-01 00:42:00|\n",
      "|2018-01-01 00:46:00|2018-01-01 00:46:00|2018-01-01 00:46:00|\n",
      "+-------------------+-------------------+-------------------+\n",
      "only showing top 2 rows\n",
      "\n"
     ]
    }
   ],
   "source": [
    "# check to see datestamp worked\n",
    "case_df.select(\"case_opened_date\", \"case_closed_date\", \"case_due_date\").show(2)"
   ]
  },
  {
   "cell_type": "code",
   "execution_count": 42,
   "id": "d9815d90",
   "metadata": {},
   "outputs": [],
   "source": [
    "# converting case closed and case late to boolean\n",
    "case_df = case_df.withColumn(\"case_late\", expr(\"case_late == 'YES'\"))\n",
    "\n",
    "case_df = case_df.withColumn(\"case_closed\", expr(\"case_closed == 'YES'\"))"
   ]
  },
  {
   "cell_type": "code",
   "execution_count": 43,
   "id": "f0d7e202",
   "metadata": {},
   "outputs": [],
   "source": [
    "# formatting the address column\n",
    "case_df=case_df.withColumn('request_address', lower(trim('request_address')))"
   ]
  },
  {
   "cell_type": "markdown",
   "id": "61f68c98",
   "metadata": {},
   "source": [
    "# How old is the latest (in terms of days past SLA) currently open issue? How long has the oldest (in terms of days since opened) currently opened issue been open?"
   ]
  },
  {
   "cell_type": "code",
   "execution_count": null,
   "id": "432f53bb",
   "metadata": {},
   "outputs": [],
   "source": []
  },
  {
   "cell_type": "markdown",
   "id": "ffaf9250",
   "metadata": {},
   "source": [
    "# How many Stray Animal cases are there?\n"
   ]
  },
  {
   "cell_type": "code",
   "execution_count": 56,
   "id": "321c6683",
   "metadata": {},
   "outputs": [
    {
     "name": "stderr",
     "output_type": "stream",
     "text": [
      "                                                                                \r"
     ]
    },
    {
     "data": {
      "text/plain": [
       "26760"
      ]
     },
     "execution_count": 56,
     "metadata": {},
     "output_type": "execute_result"
    }
   ],
   "source": [
    "case_df.filter(case_df.service_request_type == 'Stray Animal').count()"
   ]
  },
  {
   "cell_type": "code",
   "execution_count": 45,
   "id": "d5d7ca11",
   "metadata": {},
   "outputs": [
    {
     "name": "stderr",
     "output_type": "stream",
     "text": [
      "                                                                                \r"
     ]
    },
    {
     "data": {
      "text/plain": [
       "26760"
      ]
     },
     "execution_count": 45,
     "metadata": {},
     "output_type": "execute_result"
    }
   ],
   "source": [
    "case_df.where(col('service_request_type') == 'Stray Animal').count()"
   ]
  },
  {
   "cell_type": "markdown",
   "id": "32e42942",
   "metadata": {},
   "source": [
    "# How many service requests that are assigned to the Field Operations department (dept_division) are not classified as \"Officer Standby\" request type (service_request_type)?\n",
    "\n"
   ]
  },
  {
   "cell_type": "code",
   "execution_count": 47,
   "id": "09b09990",
   "metadata": {},
   "outputs": [
    {
     "name": "stderr",
     "output_type": "stream",
     "text": [
      "                                                                                \r"
     ]
    },
    {
     "data": {
      "text/plain": [
       "0"
      ]
     },
     "execution_count": 47,
     "metadata": {},
     "output_type": "execute_result"
    }
   ],
   "source": [
    "case_df.filter(col('service_request_type')"
   ]
  },
  {
   "cell_type": "code",
   "execution_count": 57,
   "id": "53d0587e",
   "metadata": {},
   "outputs": [
    {
     "name": "stderr",
     "output_type": "stream",
     "text": [
      "\r",
      "[Stage 30:>                                                         (0 + 4) / 4]\r",
      "\r",
      "                                                                                \r"
     ]
    },
    {
     "data": {
      "text/plain": [
       "113902"
      ]
     },
     "execution_count": 57,
     "metadata": {},
     "output_type": "execute_result"
    }
   ],
   "source": [
    "(case_df\n",
    ".filter(col('dept_division') == lit('Field Operations'))\n",
    ".filter(col('service_request_type') != lit('Officer Standby'))\n",
    " \n",
    ".count()\n",
    ")"
   ]
  },
  {
   "cell_type": "markdown",
   "id": "e6906e32",
   "metadata": {},
   "source": [
    "# Convert the council_district column to a string column.\n",
    "\n"
   ]
  },
  {
   "cell_type": "code",
   "execution_count": 50,
   "id": "35f995f0",
   "metadata": {},
   "outputs": [],
   "source": [
    "case_df = case_df.withColumn('council_district', col('council_district').cast('string'))"
   ]
  },
  {
   "cell_type": "markdown",
   "id": "2ed95b1f",
   "metadata": {},
   "source": [
    "# Extract the year from the case_closed_date column.\n"
   ]
  },
  {
   "cell_type": "code",
   "execution_count": 51,
   "id": "24d95013",
   "metadata": {},
   "outputs": [
    {
     "name": "stdout",
     "output_type": "stream",
     "text": [
      "+----------------+\n",
      "|Year_case_closed|\n",
      "+----------------+\n",
      "|            2018|\n",
      "|            2018|\n",
      "|            2018|\n",
      "|            2018|\n",
      "+----------------+\n",
      "only showing top 4 rows\n",
      "\n"
     ]
    }
   ],
   "source": [
    "case_df.select(year('case_closed_date').alias('Year_case_closed')).show(4)"
   ]
  },
  {
   "cell_type": "markdown",
   "id": "0c51bc02",
   "metadata": {},
   "source": [
    "# Convert num_days_late from days to hours in new columns num_hours_late.\n",
    "\n"
   ]
  },
  {
   "cell_type": "code",
   "execution_count": 53,
   "id": "6da6493b",
   "metadata": {},
   "outputs": [
    {
     "name": "stdout",
     "output_type": "stream",
     "text": [
      "-RECORD 0------------------------------------\n",
      " case_id              | 1014127332           \n",
      " case_opened_date     | 2018-01-01 00:42:00  \n",
      " case_closed_date     | 2018-01-01 00:42:00  \n",
      " case_due_date        | 2018-01-01 00:42:00  \n",
      " case_late            | false                \n",
      " num_days_late        | -998.5087616000001   \n",
      " case_closed          | true                 \n",
      " dept_division        | Field Operations     \n",
      " service_request_type | Stray Animal         \n",
      " SLA_days             | 999.0                \n",
      " case_status          | Closed               \n",
      " source_id            | svcCRMLS             \n",
      " request_address      | 2315  el paso st,... \n",
      " council_district     | 5                    \n",
      " hours_late           | -23964.2102784       \n",
      "-RECORD 1------------------------------------\n",
      " case_id              | 1014127333           \n",
      " case_opened_date     | 2018-01-01 00:46:00  \n",
      " case_closed_date     | 2018-01-01 00:46:00  \n",
      " case_due_date        | 2018-01-01 00:46:00  \n",
      " case_late            | false                \n",
      " num_days_late        | -2.0126041669999997  \n",
      " case_closed          | true                 \n",
      " dept_division        | Storm Water          \n",
      " service_request_type | Removal Of Obstru... \n",
      " SLA_days             | 4.322222222          \n",
      " case_status          | Closed               \n",
      " source_id            | svcCRMSS             \n",
      " request_address      | 2215  goliad rd, ... \n",
      " council_district     | 3                    \n",
      " hours_late           | -48.302500007999996  \n",
      "-RECORD 2------------------------------------\n",
      " case_id              | 1014127334           \n",
      " case_opened_date     | 2018-01-01 00:48:00  \n",
      " case_closed_date     | 2018-01-01 00:48:00  \n",
      " case_due_date        | 2018-01-01 00:48:00  \n",
      " case_late            | false                \n",
      " num_days_late        | -3.022337963         \n",
      " case_closed          | true                 \n",
      " dept_division        | Storm Water          \n",
      " service_request_type | Removal Of Obstru... \n",
      " SLA_days             | 4.320729167          \n",
      " case_status          | Closed               \n",
      " source_id            | svcCRMSS             \n",
      " request_address      | 102  palfrey st w... \n",
      " council_district     | 3                    \n",
      " hours_late           | -72.536111112        \n",
      "only showing top 3 rows\n",
      "\n"
     ]
    }
   ],
   "source": [
    "case_df.withColumn('hours_late', expr('num_days_late * 24')).show(3,vertical=True)"
   ]
  },
  {
   "cell_type": "markdown",
   "id": "84450f4b",
   "metadata": {},
   "source": [
    "# Join the case data with the source and department data.\n",
    "\n"
   ]
  },
  {
   "cell_type": "code",
   "execution_count": 59,
   "id": "2d7e346e",
   "metadata": {},
   "outputs": [],
   "source": [
    "case_df = case_df.join(dept_df,'dept_division', 'left')\n",
    "case_df = case_df.join(source_df, 'source_id','left')"
   ]
  },
  {
   "cell_type": "markdown",
   "id": "ef5719a5",
   "metadata": {},
   "source": [
    "# Are there any cases that do not have a request source?\n",
    "\n"
   ]
  },
  {
   "cell_type": "code",
   "execution_count": null,
   "id": "9ef4a265",
   "metadata": {},
   "outputs": [],
   "source": []
  },
  {
   "cell_type": "markdown",
   "id": "5160c965",
   "metadata": {},
   "source": [
    "# What are the top 10 service request types in terms of number of requests?\n"
   ]
  },
  {
   "cell_type": "code",
   "execution_count": 63,
   "id": "9f1912c1",
   "metadata": {},
   "outputs": [
    {
     "name": "stderr",
     "output_type": "stream",
     "text": [
      "\r",
      "[Stage 40:>                                                         (0 + 4) / 4]\r"
     ]
    },
    {
     "name": "stdout",
     "output_type": "stream",
     "text": [
      "+--------------------+-----+\n",
      "|service_request_type|count|\n",
      "+--------------------+-----+\n",
      "|           No Pickup|89210|\n",
      "|Overgrown Yard/Trash|66403|\n",
      "|        Bandit Signs|32968|\n",
      "|        Damaged Cart|31163|\n",
      "|Front Or Side Yar...|28920|\n",
      "|        Stray Animal|27361|\n",
      "|Aggressive Animal...|25492|\n",
      "|Cart Exchange Req...|22608|\n",
      "|Junk Vehicle On P...|21649|\n",
      "|     Pot Hole Repair|20827|\n",
      "+--------------------+-----+\n",
      "only showing top 10 rows\n",
      "\n"
     ]
    },
    {
     "name": "stderr",
     "output_type": "stream",
     "text": [
      "\r",
      "[Stage 40:=============================>                            (2 + 2) / 4]\r",
      "\r",
      "                                                                                \r"
     ]
    }
   ],
   "source": [
    "case_df.groupby('service_request_type').count().sort(desc('count')).show(10)"
   ]
  },
  {
   "cell_type": "markdown",
   "id": "3c24d691",
   "metadata": {},
   "source": [
    "# What are the top 10 service request types in terms of average days late?\n"
   ]
  },
  {
   "cell_type": "code",
   "execution_count": 64,
   "id": "08013808",
   "metadata": {},
   "outputs": [
    {
     "name": "stderr",
     "output_type": "stream",
     "text": [
      "\r",
      "[Stage 45:>                                                         (0 + 4) / 4]\r"
     ]
    },
    {
     "name": "stdout",
     "output_type": "stream",
     "text": [
      "+--------------------------------------+------------------+\n",
      "|service_request_type                  |average_late_days |\n",
      "+--------------------------------------+------------------+\n",
      "|Zoning: Junk Yards                    |175.9563621042095 |\n",
      "|Labeling for Used Mattress            |162.43032902285717|\n",
      "|Record Keeping of Used Mattresses     |153.99724039428568|\n",
      "|Signage Requied for Sale of Used Mattr|151.63868055333333|\n",
      "|Storage of Used Mattress              |142.112556415     |\n",
      "|Zoning: Recycle Yard                  |135.92851612479797|\n",
      "|Donation Container Enforcement        |131.75610506358706|\n",
      "|License Requied Used Mattress Sales   |128.79828704142858|\n",
      "|Traffic Signal Graffiti               |101.79846062200002|\n",
      "|Complaint                             |72.87050230311695 |\n",
      "+--------------------------------------+------------------+\n",
      "only showing top 10 rows\n",
      "\n"
     ]
    },
    {
     "name": "stderr",
     "output_type": "stream",
     "text": [
      "\r",
      "[Stage 45:==============>                                           (1 + 3) / 4]\r",
      "\r",
      "                                                                                \r"
     ]
    }
   ],
   "source": [
    "(\n",
    "case_df.groupBy('service_request_type')\n",
    ".agg(mean('num_days_late')\n",
    ".alias('average_late_days'))\n",
    ".sort(desc('average_late_days'))\n",
    ".show(10, truncate = False)\n",
    ")"
   ]
  },
  {
   "cell_type": "markdown",
   "id": "305581bd",
   "metadata": {},
   "source": [
    "# Does number of days late depend on department?\n"
   ]
  },
  {
   "cell_type": "code",
   "execution_count": 88,
   "id": "c33d25d1",
   "metadata": {},
   "outputs": [
    {
     "name": "stderr",
     "output_type": "stream",
     "text": [
      "\r",
      "[Stage 55:>                                                         (0 + 4) / 4]\r"
     ]
    },
    {
     "name": "stdout",
     "output_type": "stream",
     "text": [
      "+-----------------------------+------------------+\n",
      "|dept_division                |average_late_days |\n",
      "+-----------------------------+------------------+\n",
      "|Code Enforcement (Internal)  |135.92851612479797|\n",
      "|Reservations                 |66.03116319       |\n",
      "|311 Call Center              |59.737091496300785|\n",
      "|Director's Office Horizontal |37.570646702950086|\n",
      "|Engineering Division         |13.43372455586971 |\n",
      "|Shops                        |9.64126176872269  |\n",
      "|Tree Crew                    |4.723282812065399 |\n",
      "|Solid Waste                  |3.5190239198762248|\n",
      "|Trades                       |3.231977141276932 |\n",
      "|Clean and Green Natural Areas|1.691468919487805 |\n",
      "+-----------------------------+------------------+\n",
      "only showing top 10 rows\n",
      "\n"
     ]
    },
    {
     "name": "stderr",
     "output_type": "stream",
     "text": [
      "\r",
      "                                                                                \r"
     ]
    }
   ],
   "source": [
    "case_df.groupBy('dept_division')\\\n",
    ".agg(avg('num_days_late').alias('average_late_days'))\\\n",
    ".sort(desc('average_late_days'))\\\n",
    ".show(10, truncate= False)\n"
   ]
  },
  {
   "cell_type": "code",
   "execution_count": 89,
   "id": "85a61467",
   "metadata": {},
   "outputs": [
    {
     "name": "stderr",
     "output_type": "stream",
     "text": [
      "\r",
      "[Stage 60:>                                                         (0 + 4) / 4]\r"
     ]
    },
    {
     "name": "stdout",
     "output_type": "stream",
     "text": [
      "+--------------------+-------------------+\n",
      "|       dept_division|          days_late|\n",
      "+--------------------+-------------------+\n",
      "|Code Enforcement ...| 135.92851612479797|\n",
      "|        Reservations|        66.03116319|\n",
      "|     311 Call Center| 59.737091496300785|\n",
      "|Director's Office...| 37.570646702950086|\n",
      "|Engineering Division|  13.43372455586971|\n",
      "|               Shops|   9.64126176872269|\n",
      "|           Tree Crew|  4.723282812065399|\n",
      "|         Solid Waste| 3.5190239198762248|\n",
      "|              Trades|  3.231977141276932|\n",
      "|Clean and Green N...|  1.691468919487805|\n",
      "|              Vector|-1.1206532993223441|\n",
      "|    Facility License|-1.4126937702216633|\n",
      "|       Miscellaneous|-1.7218576838926591|\n",
      "|    Waste Collection| -2.170652238479914|\n",
      "|     Clean and Green| -2.557154979254144|\n",
      "|               Brush| -3.985790571457094|\n",
      "| Food Establishments| -6.971552370451523|\n",
      "|  Signs and Markings| -7.448628001357712|\n",
      "|    Shops (Internal)| -8.186267119876439|\n",
      "|         Storm Water|-14.055678397031881|\n",
      "+--------------------+-------------------+\n",
      "only showing top 20 rows\n",
      "\n"
     ]
    },
    {
     "name": "stderr",
     "output_type": "stream",
     "text": [
      "\r",
      "[Stage 60:==============>                                           (1 + 3) / 4]\r",
      "\r",
      "                                                                                \r"
     ]
    }
   ],
   "source": [
    "case_df.groupBy(case_df.dept_division).agg(avg(case_df.num_days_late).alias('days_late')).sort(desc('days_late')).show()\n",
    "\n"
   ]
  },
  {
   "cell_type": "markdown",
   "id": "0c131e38",
   "metadata": {},
   "source": [
    "# How do number of days late depend on department and request type"
   ]
  },
  {
   "cell_type": "code",
   "execution_count": 91,
   "id": "6e35ef06",
   "metadata": {},
   "outputs": [
    {
     "ename": "AnalysisException",
     "evalue": "Column 'service_rerquest_type' does not exist. Did you mean one of the following? [service_request_type, source_username, case_due_date, request_address, case_closed_date, case_opened_date, case_status, standardized_dept_name, standardized_dept_name, case_late, dept_name, dept_name, dept_subject_to_SLA, dept_subject_to_SLA, num_days_late, source_id, case_closed, case_id, council_district, dept_division, SLA_days];\n'Aggregate [dept_division#24, 'service_rerquest_type], [dept_division#24, 'service_rerquest_type, avg(num_days_late#22) AS days_late#1481]\n+- Project [source_id#28, dept_division#24, case_id#17, case_opened_date#377, case_closed_date#392, case_due_date#407, case_late#469, num_days_late#22, case_closed#484, service_request_type#25, SLA_days#26, case_status#27, request_address#499, council_district#576, dept_name#156, standardized_dept_name#157, dept_subject_to_SLA#158, dept_name#836, standardized_dept_name#837, dept_subject_to_SLA#838, source_username#135]\n   +- Join LeftOuter, (source_id#28 = source_id#134)\n      :- Project [dept_division#24, case_id#17, case_opened_date#377, case_closed_date#392, case_due_date#407, case_late#469, num_days_late#22, case_closed#484, service_request_type#25, SLA_days#26, case_status#27, source_id#28, request_address#499, council_district#576, dept_name#156, standardized_dept_name#157, dept_subject_to_SLA#158, dept_name#836, standardized_dept_name#837, dept_subject_to_SLA#838]\n      :  +- Join LeftOuter, (dept_division#24 = dept_division#835)\n      :     :- Project [dept_division#24, case_id#17, case_opened_date#377, case_closed_date#392, case_due_date#407, case_late#469, num_days_late#22, case_closed#484, service_request_type#25, SLA_days#26, case_status#27, source_id#28, request_address#499, council_district#576, dept_name#156, standardized_dept_name#157, dept_subject_to_SLA#158]\n      :     :  +- Join LeftOuter, (dept_division#24 = dept_division#155)\n      :     :     :- Project [case_id#17, case_opened_date#377, case_closed_date#392, case_due_date#407, case_late#469, num_days_late#22, case_closed#484, dept_division#24, service_request_type#25, SLA_days#26, case_status#27, source_id#28, request_address#499, cast(council_district#30 as string) AS council_district#576]\n      :     :     :  +- Project [case_id#17, case_opened_date#377, case_closed_date#392, case_due_date#407, case_late#469, num_days_late#22, case_closed#484, dept_division#24, service_request_type#25, SLA_days#26, case_status#27, source_id#28, lower(trim(request_address#29, None)) AS request_address#499, council_district#30]\n      :     :     :     +- Project [case_id#17, case_opened_date#377, case_closed_date#392, case_due_date#407, case_late#469, num_days_late#22, (case_closed#454 = cast(YES as boolean)) AS case_closed#484, dept_division#24, service_request_type#25, SLA_days#26, case_status#27, source_id#28, request_address#29, council_district#30]\n      :     :     :        +- Project [case_id#17, case_opened_date#377, case_closed_date#392, case_due_date#407, (case_late#439 = cast(YES as boolean)) AS case_late#469, num_days_late#22, case_closed#454, dept_division#24, service_request_type#25, SLA_days#26, case_status#27, source_id#28, request_address#29, council_district#30]\n      :     :     :           +- Project [case_id#17, case_opened_date#377, case_closed_date#392, case_due_date#407, case_late#439, num_days_late#22, (case_closed#23 = YES) AS case_closed#454, dept_division#24, service_request_type#25, SLA_days#26, case_status#27, source_id#28, request_address#29, council_district#30]\n      :     :     :              +- Project [case_id#17, case_opened_date#377, case_closed_date#392, case_due_date#407, (case_late#21 = YES) AS case_late#439, num_days_late#22, case_closed#23, dept_division#24, service_request_type#25, SLA_days#26, case_status#27, source_id#28, request_address#29, council_district#30]\n      :     :     :                 +- Project [case_id#17, case_opened_date#377, case_closed_date#392, to_timestamp(case_opened_date#377, Some(M/d/yy H:mm), TimestampType, Some(America/New_York)) AS case_due_date#407, case_late#21, num_days_late#22, case_closed#23, dept_division#24, service_request_type#25, SLA_days#26, case_status#27, source_id#28, request_address#29, council_district#30]\n      :     :     :                    +- Project [case_id#17, case_opened_date#377, to_timestamp(case_opened_date#377, Some(M/d/yy H:mm), TimestampType, Some(America/New_York)) AS case_closed_date#392, case_due_date#362, case_late#21, num_days_late#22, case_closed#23, dept_division#24, service_request_type#25, SLA_days#26, case_status#27, source_id#28, request_address#29, council_district#30]\n      :     :     :                       +- Project [case_id#17, to_timestamp(case_opened_date#18, Some(M/d/yy H:mm), TimestampType, Some(America/New_York)) AS case_opened_date#377, case_closed_date#19, case_due_date#362, case_late#21, num_days_late#22, case_closed#23, dept_division#24, service_request_type#25, SLA_days#26, case_status#27, source_id#28, request_address#29, council_district#30]\n      :     :     :                          +- Project [case_id#17, case_opened_date#18, case_closed_date#19, SLA_due_date#20 AS case_due_date#362, case_late#21, num_days_late#22, case_closed#23, dept_division#24, service_request_type#25, SLA_days#26, case_status#27, source_id#28, request_address#29, council_district#30]\n      :     :     :                             +- Relation [case_id#17,case_opened_date#18,case_closed_date#19,SLA_due_date#20,case_late#21,num_days_late#22,case_closed#23,dept_division#24,service_request_type#25,SLA_days#26,case_status#27,source_id#28,request_address#29,council_district#30] csv\n      :     :     +- Relation [dept_division#155,dept_name#156,standardized_dept_name#157,dept_subject_to_SLA#158] csv\n      :     +- Relation [dept_division#835,dept_name#836,standardized_dept_name#837,dept_subject_to_SLA#838] csv\n      +- Relation [source_id#134,source_username#135] csv\n",
     "output_type": "error",
     "traceback": [
      "\u001b[0;31m---------------------------------------------------------------------------\u001b[0m",
      "\u001b[0;31mAnalysisException\u001b[0m                         Traceback (most recent call last)",
      "Input \u001b[0;32mIn [91]\u001b[0m, in \u001b[0;36m<cell line: 1>\u001b[0;34m()\u001b[0m\n\u001b[0;32m----> 1\u001b[0m \u001b[43mcase_df\u001b[49m\u001b[38;5;241;43m.\u001b[39;49m\u001b[43mgroupBy\u001b[49m\u001b[43m(\u001b[49m\u001b[38;5;124;43m'\u001b[39;49m\u001b[38;5;124;43mdept_division\u001b[39;49m\u001b[38;5;124;43m'\u001b[39;49m\u001b[43m,\u001b[49m\u001b[38;5;124;43m'\u001b[39;49m\u001b[38;5;124;43mservice_rerquest_type\u001b[39;49m\u001b[38;5;124;43m'\u001b[39;49m\u001b[43m)\u001b[49m\u001b[38;5;241;43m.\u001b[39;49m\u001b[43magg\u001b[49m\u001b[43m(\u001b[49m\u001b[43mavg\u001b[49m\u001b[43m(\u001b[49m\u001b[38;5;124;43m'\u001b[39;49m\u001b[38;5;124;43mnum_days_late\u001b[39;49m\u001b[38;5;124;43m'\u001b[39;49m\u001b[43m)\u001b[49m\u001b[38;5;241;43m.\u001b[39;49m\u001b[43malias\u001b[49m\u001b[43m(\u001b[49m\u001b[38;5;124;43m'\u001b[39;49m\u001b[38;5;124;43mdays_late\u001b[39;49m\u001b[38;5;124;43m'\u001b[39;49m\u001b[43m)\u001b[49m\u001b[43m)\u001b[49m\u001b[38;5;241m.\u001b[39msort(desc(\u001b[38;5;124m'\u001b[39m\u001b[38;5;124mdays_late\u001b[39m\u001b[38;5;124m'\u001b[39m))\u001b[38;5;241m.\u001b[39mshow()\n",
      "File \u001b[0;32m/usr/local/anaconda3/lib/python3.9/site-packages/pyspark/sql/group.py:137\u001b[0m, in \u001b[0;36mGroupedData.agg\u001b[0;34m(self, *exprs)\u001b[0m\n\u001b[1;32m    135\u001b[0m     \u001b[38;5;28;01massert\u001b[39;00m \u001b[38;5;28mall\u001b[39m(\u001b[38;5;28misinstance\u001b[39m(c, Column) \u001b[38;5;28;01mfor\u001b[39;00m c \u001b[38;5;129;01min\u001b[39;00m exprs), \u001b[38;5;124m\"\u001b[39m\u001b[38;5;124mall exprs should be Column\u001b[39m\u001b[38;5;124m\"\u001b[39m\n\u001b[1;32m    136\u001b[0m     exprs \u001b[38;5;241m=\u001b[39m cast(Tuple[Column, \u001b[38;5;241m.\u001b[39m\u001b[38;5;241m.\u001b[39m\u001b[38;5;241m.\u001b[39m], exprs)\n\u001b[0;32m--> 137\u001b[0m     jdf \u001b[38;5;241m=\u001b[39m \u001b[38;5;28;43mself\u001b[39;49m\u001b[38;5;241;43m.\u001b[39;49m\u001b[43m_jgd\u001b[49m\u001b[38;5;241;43m.\u001b[39;49m\u001b[43magg\u001b[49m\u001b[43m(\u001b[49m\u001b[43mexprs\u001b[49m\u001b[43m[\u001b[49m\u001b[38;5;241;43m0\u001b[39;49m\u001b[43m]\u001b[49m\u001b[38;5;241;43m.\u001b[39;49m\u001b[43m_jc\u001b[49m\u001b[43m,\u001b[49m\u001b[43m \u001b[49m\u001b[43m_to_seq\u001b[49m\u001b[43m(\u001b[49m\u001b[38;5;28;43mself\u001b[39;49m\u001b[38;5;241;43m.\u001b[39;49m\u001b[43msession\u001b[49m\u001b[38;5;241;43m.\u001b[39;49m\u001b[43m_sc\u001b[49m\u001b[43m,\u001b[49m\u001b[43m \u001b[49m\u001b[43m[\u001b[49m\u001b[43mc\u001b[49m\u001b[38;5;241;43m.\u001b[39;49m\u001b[43m_jc\u001b[49m\u001b[43m \u001b[49m\u001b[38;5;28;43;01mfor\u001b[39;49;00m\u001b[43m \u001b[49m\u001b[43mc\u001b[49m\u001b[43m \u001b[49m\u001b[38;5;129;43;01min\u001b[39;49;00m\u001b[43m \u001b[49m\u001b[43mexprs\u001b[49m\u001b[43m[\u001b[49m\u001b[38;5;241;43m1\u001b[39;49m\u001b[43m:\u001b[49m\u001b[43m]\u001b[49m\u001b[43m]\u001b[49m\u001b[43m)\u001b[49m\u001b[43m)\u001b[49m\n\u001b[1;32m    138\u001b[0m \u001b[38;5;28;01mreturn\u001b[39;00m DataFrame(jdf, \u001b[38;5;28mself\u001b[39m\u001b[38;5;241m.\u001b[39msession)\n",
      "File \u001b[0;32m/usr/local/anaconda3/lib/python3.9/site-packages/py4j/java_gateway.py:1321\u001b[0m, in \u001b[0;36mJavaMember.__call__\u001b[0;34m(self, *args)\u001b[0m\n\u001b[1;32m   1315\u001b[0m command \u001b[38;5;241m=\u001b[39m proto\u001b[38;5;241m.\u001b[39mCALL_COMMAND_NAME \u001b[38;5;241m+\u001b[39m\\\n\u001b[1;32m   1316\u001b[0m     \u001b[38;5;28mself\u001b[39m\u001b[38;5;241m.\u001b[39mcommand_header \u001b[38;5;241m+\u001b[39m\\\n\u001b[1;32m   1317\u001b[0m     args_command \u001b[38;5;241m+\u001b[39m\\\n\u001b[1;32m   1318\u001b[0m     proto\u001b[38;5;241m.\u001b[39mEND_COMMAND_PART\n\u001b[1;32m   1320\u001b[0m answer \u001b[38;5;241m=\u001b[39m \u001b[38;5;28mself\u001b[39m\u001b[38;5;241m.\u001b[39mgateway_client\u001b[38;5;241m.\u001b[39msend_command(command)\n\u001b[0;32m-> 1321\u001b[0m return_value \u001b[38;5;241m=\u001b[39m \u001b[43mget_return_value\u001b[49m\u001b[43m(\u001b[49m\n\u001b[1;32m   1322\u001b[0m \u001b[43m    \u001b[49m\u001b[43manswer\u001b[49m\u001b[43m,\u001b[49m\u001b[43m \u001b[49m\u001b[38;5;28;43mself\u001b[39;49m\u001b[38;5;241;43m.\u001b[39;49m\u001b[43mgateway_client\u001b[49m\u001b[43m,\u001b[49m\u001b[43m \u001b[49m\u001b[38;5;28;43mself\u001b[39;49m\u001b[38;5;241;43m.\u001b[39;49m\u001b[43mtarget_id\u001b[49m\u001b[43m,\u001b[49m\u001b[43m \u001b[49m\u001b[38;5;28;43mself\u001b[39;49m\u001b[38;5;241;43m.\u001b[39;49m\u001b[43mname\u001b[49m\u001b[43m)\u001b[49m\n\u001b[1;32m   1324\u001b[0m \u001b[38;5;28;01mfor\u001b[39;00m temp_arg \u001b[38;5;129;01min\u001b[39;00m temp_args:\n\u001b[1;32m   1325\u001b[0m     temp_arg\u001b[38;5;241m.\u001b[39m_detach()\n",
      "File \u001b[0;32m/usr/local/anaconda3/lib/python3.9/site-packages/pyspark/sql/utils.py:196\u001b[0m, in \u001b[0;36mcapture_sql_exception.<locals>.deco\u001b[0;34m(*a, **kw)\u001b[0m\n\u001b[1;32m    192\u001b[0m converted \u001b[38;5;241m=\u001b[39m convert_exception(e\u001b[38;5;241m.\u001b[39mjava_exception)\n\u001b[1;32m    193\u001b[0m \u001b[38;5;28;01mif\u001b[39;00m \u001b[38;5;129;01mnot\u001b[39;00m \u001b[38;5;28misinstance\u001b[39m(converted, UnknownException):\n\u001b[1;32m    194\u001b[0m     \u001b[38;5;66;03m# Hide where the exception came from that shows a non-Pythonic\u001b[39;00m\n\u001b[1;32m    195\u001b[0m     \u001b[38;5;66;03m# JVM exception message.\u001b[39;00m\n\u001b[0;32m--> 196\u001b[0m     \u001b[38;5;28;01mraise\u001b[39;00m converted \u001b[38;5;28;01mfrom\u001b[39;00m \u001b[38;5;28mNone\u001b[39m\n\u001b[1;32m    197\u001b[0m \u001b[38;5;28;01melse\u001b[39;00m:\n\u001b[1;32m    198\u001b[0m     \u001b[38;5;28;01mraise\u001b[39;00m\n",
      "\u001b[0;31mAnalysisException\u001b[0m: Column 'service_rerquest_type' does not exist. Did you mean one of the following? [service_request_type, source_username, case_due_date, request_address, case_closed_date, case_opened_date, case_status, standardized_dept_name, standardized_dept_name, case_late, dept_name, dept_name, dept_subject_to_SLA, dept_subject_to_SLA, num_days_late, source_id, case_closed, case_id, council_district, dept_division, SLA_days];\n'Aggregate [dept_division#24, 'service_rerquest_type], [dept_division#24, 'service_rerquest_type, avg(num_days_late#22) AS days_late#1481]\n+- Project [source_id#28, dept_division#24, case_id#17, case_opened_date#377, case_closed_date#392, case_due_date#407, case_late#469, num_days_late#22, case_closed#484, service_request_type#25, SLA_days#26, case_status#27, request_address#499, council_district#576, dept_name#156, standardized_dept_name#157, dept_subject_to_SLA#158, dept_name#836, standardized_dept_name#837, dept_subject_to_SLA#838, source_username#135]\n   +- Join LeftOuter, (source_id#28 = source_id#134)\n      :- Project [dept_division#24, case_id#17, case_opened_date#377, case_closed_date#392, case_due_date#407, case_late#469, num_days_late#22, case_closed#484, service_request_type#25, SLA_days#26, case_status#27, source_id#28, request_address#499, council_district#576, dept_name#156, standardized_dept_name#157, dept_subject_to_SLA#158, dept_name#836, standardized_dept_name#837, dept_subject_to_SLA#838]\n      :  +- Join LeftOuter, (dept_division#24 = dept_division#835)\n      :     :- Project [dept_division#24, case_id#17, case_opened_date#377, case_closed_date#392, case_due_date#407, case_late#469, num_days_late#22, case_closed#484, service_request_type#25, SLA_days#26, case_status#27, source_id#28, request_address#499, council_district#576, dept_name#156, standardized_dept_name#157, dept_subject_to_SLA#158]\n      :     :  +- Join LeftOuter, (dept_division#24 = dept_division#155)\n      :     :     :- Project [case_id#17, case_opened_date#377, case_closed_date#392, case_due_date#407, case_late#469, num_days_late#22, case_closed#484, dept_division#24, service_request_type#25, SLA_days#26, case_status#27, source_id#28, request_address#499, cast(council_district#30 as string) AS council_district#576]\n      :     :     :  +- Project [case_id#17, case_opened_date#377, case_closed_date#392, case_due_date#407, case_late#469, num_days_late#22, case_closed#484, dept_division#24, service_request_type#25, SLA_days#26, case_status#27, source_id#28, lower(trim(request_address#29, None)) AS request_address#499, council_district#30]\n      :     :     :     +- Project [case_id#17, case_opened_date#377, case_closed_date#392, case_due_date#407, case_late#469, num_days_late#22, (case_closed#454 = cast(YES as boolean)) AS case_closed#484, dept_division#24, service_request_type#25, SLA_days#26, case_status#27, source_id#28, request_address#29, council_district#30]\n      :     :     :        +- Project [case_id#17, case_opened_date#377, case_closed_date#392, case_due_date#407, (case_late#439 = cast(YES as boolean)) AS case_late#469, num_days_late#22, case_closed#454, dept_division#24, service_request_type#25, SLA_days#26, case_status#27, source_id#28, request_address#29, council_district#30]\n      :     :     :           +- Project [case_id#17, case_opened_date#377, case_closed_date#392, case_due_date#407, case_late#439, num_days_late#22, (case_closed#23 = YES) AS case_closed#454, dept_division#24, service_request_type#25, SLA_days#26, case_status#27, source_id#28, request_address#29, council_district#30]\n      :     :     :              +- Project [case_id#17, case_opened_date#377, case_closed_date#392, case_due_date#407, (case_late#21 = YES) AS case_late#439, num_days_late#22, case_closed#23, dept_division#24, service_request_type#25, SLA_days#26, case_status#27, source_id#28, request_address#29, council_district#30]\n      :     :     :                 +- Project [case_id#17, case_opened_date#377, case_closed_date#392, to_timestamp(case_opened_date#377, Some(M/d/yy H:mm), TimestampType, Some(America/New_York)) AS case_due_date#407, case_late#21, num_days_late#22, case_closed#23, dept_division#24, service_request_type#25, SLA_days#26, case_status#27, source_id#28, request_address#29, council_district#30]\n      :     :     :                    +- Project [case_id#17, case_opened_date#377, to_timestamp(case_opened_date#377, Some(M/d/yy H:mm), TimestampType, Some(America/New_York)) AS case_closed_date#392, case_due_date#362, case_late#21, num_days_late#22, case_closed#23, dept_division#24, service_request_type#25, SLA_days#26, case_status#27, source_id#28, request_address#29, council_district#30]\n      :     :     :                       +- Project [case_id#17, to_timestamp(case_opened_date#18, Some(M/d/yy H:mm), TimestampType, Some(America/New_York)) AS case_opened_date#377, case_closed_date#19, case_due_date#362, case_late#21, num_days_late#22, case_closed#23, dept_division#24, service_request_type#25, SLA_days#26, case_status#27, source_id#28, request_address#29, council_district#30]\n      :     :     :                          +- Project [case_id#17, case_opened_date#18, case_closed_date#19, SLA_due_date#20 AS case_due_date#362, case_late#21, num_days_late#22, case_closed#23, dept_division#24, service_request_type#25, SLA_days#26, case_status#27, source_id#28, request_address#29, council_district#30]\n      :     :     :                             +- Relation [case_id#17,case_opened_date#18,case_closed_date#19,SLA_due_date#20,case_late#21,num_days_late#22,case_closed#23,dept_division#24,service_request_type#25,SLA_days#26,case_status#27,source_id#28,request_address#29,council_district#30] csv\n      :     :     +- Relation [dept_division#155,dept_name#156,standardized_dept_name#157,dept_subject_to_SLA#158] csv\n      :     +- Relation [dept_division#835,dept_name#836,standardized_dept_name#837,dept_subject_to_SLA#838] csv\n      +- Relation [source_id#134,source_username#135] csv\n"
     ]
    }
   ],
   "source": [
    "case_df.groupBy('dept_division','service_rerquest_type').agg(avg('num_days_late').alias('days_late')).sort(desc('days_late')).show()\n",
    "\n"
   ]
  },
  {
   "cell_type": "code",
   "execution_count": 84,
   "id": "78329f0d",
   "metadata": {},
   "outputs": [],
   "source": [
    "# (\n",
    "# case_df.groupBy('standardized_dept_name', 'service_request_type')\n",
    "# .agg(mean('num_days_late')\n",
    "# .alias('average_late_days'))\n",
    "# .where(col('average_late_days') > 0)\n",
    "# .sort(desc('average_late_days'))\n",
    "# .show(100,truncate = False)\n",
    "# )"
   ]
  },
  {
   "cell_type": "code",
   "execution_count": null,
   "id": "161e2f24",
   "metadata": {},
   "outputs": [],
   "source": []
  }
 ],
 "metadata": {
  "kernelspec": {
   "display_name": "Python 3 (ipykernel)",
   "language": "python",
   "name": "python3"
  },
  "language_info": {
   "codemirror_mode": {
    "name": "ipython",
    "version": 3
   },
   "file_extension": ".py",
   "mimetype": "text/x-python",
   "name": "python",
   "nbconvert_exporter": "python",
   "pygments_lexer": "ipython3",
   "version": "3.9.12"
  }
 },
 "nbformat": 4,
 "nbformat_minor": 5
}
