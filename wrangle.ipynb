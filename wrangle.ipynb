{
 "cells": [
  {
   "cell_type": "code",
   "execution_count": 1,
   "id": "499e65cd",
   "metadata": {},
   "outputs": [],
   "source": [
    "from pyspark.sql import SparkSession\n",
    "from pyspark.sql.functions import *\n",
    "import pandas as pd\n",
    "import numpy as np\n",
    "from pydataset import data"
   ]
  },
  {
   "cell_type": "code",
   "execution_count": 5,
   "id": "b0ae5683",
   "metadata": {},
   "outputs": [
    {
     "name": "stderr",
     "output_type": "stream",
     "text": [
      "Setting default log level to \"WARN\".\n",
      "To adjust logging level use sc.setLogLevel(newLevel). For SparkR, use setLogLevel(newLevel).\n"
     ]
    },
    {
     "name": "stdout",
     "output_type": "stream",
     "text": [
      "22/09/12 16:31:41 WARN NativeCodeLoader: Unable to load native-hadoop library for your platform... using builtin-java classes where applicable\n",
      "22/09/12 16:31:43 WARN Utils: Service 'SparkUI' could not bind on port 4040. Attempting port 4041.\n"
     ]
    }
   ],
   "source": [
    "spark= SparkSession.builder.getOrCreate()"
   ]
  },
  {
   "cell_type": "markdown",
   "id": "07a23e09",
   "metadata": {},
   "source": [
    "# Read the case, department, and source data into their own spark dataframes."
   ]
  },
  {
   "cell_type": "code",
   "execution_count": 6,
   "id": "32e0475f",
   "metadata": {},
   "outputs": [
    {
     "name": "stderr",
     "output_type": "stream",
     "text": [
      "                                                                                \r"
     ]
    }
   ],
   "source": [
    "# read case csv\n",
    "case_df= spark.read.csv('case.csv', sep=',',header=True, inferSchema=True)\n",
    "\n"
   ]
  },
  {
   "cell_type": "code",
   "execution_count": 10,
   "id": "60da0a62",
   "metadata": {},
   "outputs": [
    {
     "name": "stdout",
     "output_type": "stream",
     "text": [
      "-RECORD 0------------------------------------\n",
      " case_id              | 1014127332           \n",
      " case_opened_date     | 1/1/18 0:42          \n",
      " case_closed_date     | 1/1/18 12:29         \n",
      " SLA_due_date         | 9/26/20 0:42         \n",
      " case_late            | NO                   \n",
      " num_days_late        | -998.5087616000001   \n",
      " case_closed          | YES                  \n",
      " dept_division        | Field Operations     \n",
      " service_request_type | Stray Animal         \n",
      " SLA_days             | 999.0                \n",
      " case_status          | Closed               \n",
      " source_id            | svcCRMLS             \n",
      " request_address      | 2315  EL PASO ST,... \n",
      " council_district     | 5                    \n",
      "-RECORD 1------------------------------------\n",
      " case_id              | 1014127333           \n",
      " case_opened_date     | 1/1/18 0:46          \n",
      " case_closed_date     | 1/3/18 8:11          \n",
      " SLA_due_date         | 1/5/18 8:30          \n",
      " case_late            | NO                   \n",
      " num_days_late        | -2.0126041669999997  \n",
      " case_closed          | YES                  \n",
      " dept_division        | Storm Water          \n",
      " service_request_type | Removal Of Obstru... \n",
      " SLA_days             | 4.322222222          \n",
      " case_status          | Closed               \n",
      " source_id            | svcCRMSS             \n",
      " request_address      | 2215  GOLIAD RD, ... \n",
      " council_district     | 3                    \n",
      "-RECORD 2------------------------------------\n",
      " case_id              | 1014127334           \n",
      " case_opened_date     | 1/1/18 0:48          \n",
      " case_closed_date     | 1/2/18 7:57          \n",
      " SLA_due_date         | 1/5/18 8:30          \n",
      " case_late            | NO                   \n",
      " num_days_late        | -3.022337963         \n",
      " case_closed          | YES                  \n",
      " dept_division        | Storm Water          \n",
      " service_request_type | Removal Of Obstru... \n",
      " SLA_days             | 4.320729167          \n",
      " case_status          | Closed               \n",
      " source_id            | svcCRMSS             \n",
      " request_address      | 102  PALFREY ST W... \n",
      " council_district     | 3                    \n",
      "only showing top 3 rows\n",
      "\n"
     ]
    }
   ],
   "source": [
    "case_df.show(3, vertical= True)"
   ]
  },
  {
   "cell_type": "code",
   "execution_count": 8,
   "id": "03ff8a50",
   "metadata": {},
   "outputs": [],
   "source": [
    "#read source csv\n",
    "source_df= spark.read.csv('source.csv', sep=',',header=True, inferSchema=True)"
   ]
  },
  {
   "cell_type": "code",
   "execution_count": 13,
   "id": "c7adbe04",
   "metadata": {},
   "outputs": [
    {
     "name": "stdout",
     "output_type": "stream",
     "text": [
      "-RECORD 0---------------------------\n",
      " source_id       | 100137           \n",
      " source_username | Merlene Blodgett \n",
      "-RECORD 1---------------------------\n",
      " source_id       | 103582           \n",
      " source_username | Carmen Cura      \n",
      "-RECORD 2---------------------------\n",
      " source_id       | 106463           \n",
      " source_username | Richard Sanchez  \n",
      "-RECORD 3---------------------------\n",
      " source_id       | 119403           \n",
      " source_username | Betty De Hoyos   \n",
      "-RECORD 4---------------------------\n",
      " source_id       | 119555           \n",
      " source_username | Socorro Quiara   \n",
      "only showing top 5 rows\n",
      "\n"
     ]
    }
   ],
   "source": [
    "source_df.show(5,vertical= True)\n"
   ]
  },
  {
   "cell_type": "code",
   "execution_count": 9,
   "id": "7832cdf4",
   "metadata": {},
   "outputs": [],
   "source": [
    "# read department csv from local diretory\n",
    "dept_df= spark.read.csv('dept.csv', sep=',',header=True, inferSchema=True)"
   ]
  },
  {
   "cell_type": "code",
   "execution_count": 14,
   "id": "fc877228",
   "metadata": {},
   "outputs": [
    {
     "name": "stdout",
     "output_type": "stream",
     "text": [
      "-RECORD 0--------------------------------------\n",
      " dept_division          | 311 Call Center      \n",
      " dept_name              | Customer Service     \n",
      " standardized_dept_name | Customer Service     \n",
      " dept_subject_to_SLA    | YES                  \n",
      "-RECORD 1--------------------------------------\n",
      " dept_division          | Brush                \n",
      " dept_name              | Solid Waste Manag... \n",
      " standardized_dept_name | Solid Waste          \n",
      " dept_subject_to_SLA    | YES                  \n",
      "-RECORD 2--------------------------------------\n",
      " dept_division          | Clean and Green      \n",
      " dept_name              | Parks and Recreation \n",
      " standardized_dept_name | Parks & Recreation   \n",
      " dept_subject_to_SLA    | YES                  \n",
      "-RECORD 3--------------------------------------\n",
      " dept_division          | Clean and Green N... \n",
      " dept_name              | Parks and Recreation \n",
      " standardized_dept_name | Parks & Recreation   \n",
      " dept_subject_to_SLA    | YES                  \n",
      "-RECORD 4--------------------------------------\n",
      " dept_division          | Code Enforcement     \n",
      " dept_name              | Code Enforcement ... \n",
      " standardized_dept_name | DSD/Code Enforcement \n",
      " dept_subject_to_SLA    | YES                  \n",
      "only showing top 5 rows\n",
      "\n"
     ]
    }
   ],
   "source": [
    "dept_df.show(5, vertical= True)"
   ]
  },
  {
   "cell_type": "markdown",
   "id": "3bef7e65",
   "metadata": {},
   "source": [
    "# Let's see how writing to the local disk works in spark:\n",
    "\n",
    "### - Write the code necessary to store the source data in both csv and json format, store these as sources_csv and sources_json\n",
    "### - Inspect your folder structure. What do you notice?"
   ]
  },
  {
   "cell_type": "code",
   "execution_count": 16,
   "id": "fda2b5a3",
   "metadata": {},
   "outputs": [],
   "source": [
    "#source data saved to json format.\n",
    "source_df.write.json('source_json', mode='overwrite')"
   ]
  },
  {
   "cell_type": "code",
   "execution_count": 18,
   "id": "b182e23d",
   "metadata": {},
   "outputs": [],
   "source": [
    "# source data save to _csv\n",
    "source_df.write.csv('source_csv', mode='overwrite')"
   ]
  },
  {
   "cell_type": "markdown",
   "id": "a5143efd",
   "metadata": {},
   "source": [
    "- upon inspecting the files saved it actually created a folder inside of which there were multiple files."
   ]
  },
  {
   "cell_type": "markdown",
   "id": "f9b4fa22",
   "metadata": {},
   "source": [
    "## Inspect the data in your dataframes. Are the data types appropriate? Write the code necessary to cast the values to the appropriate types.\n",
    "\n"
   ]
  },
  {
   "cell_type": "code",
   "execution_count": 20,
   "id": "4841ba0d",
   "metadata": {},
   "outputs": [],
   "source": [
    "files=[case_df, source_df,dept_df]"
   ]
  },
  {
   "cell_type": "code",
   "execution_count": 21,
   "id": "d2851267",
   "metadata": {},
   "outputs": [
    {
     "name": "stdout",
     "output_type": "stream",
     "text": [
      "root\n",
      " |-- case_id: integer (nullable = true)\n",
      " |-- case_opened_date: string (nullable = true)\n",
      " |-- case_closed_date: string (nullable = true)\n",
      " |-- SLA_due_date: string (nullable = true)\n",
      " |-- case_late: string (nullable = true)\n",
      " |-- num_days_late: double (nullable = true)\n",
      " |-- case_closed: string (nullable = true)\n",
      " |-- dept_division: string (nullable = true)\n",
      " |-- service_request_type: string (nullable = true)\n",
      " |-- SLA_days: double (nullable = true)\n",
      " |-- case_status: string (nullable = true)\n",
      " |-- source_id: string (nullable = true)\n",
      " |-- request_address: string (nullable = true)\n",
      " |-- council_district: integer (nullable = true)\n",
      "\n",
      "None\n",
      "root\n",
      " |-- source_id: string (nullable = true)\n",
      " |-- source_username: string (nullable = true)\n",
      "\n",
      "None\n",
      "root\n",
      " |-- dept_division: string (nullable = true)\n",
      " |-- dept_name: string (nullable = true)\n",
      " |-- standardized_dept_name: string (nullable = true)\n",
      " |-- dept_subject_to_SLA: string (nullable = true)\n",
      "\n",
      "None\n"
     ]
    }
   ],
   "source": [
    "# check the datatypes\n",
    "for file in files:\n",
    "    print(file.printSchema())"
   ]
  },
  {
   "cell_type": "code",
   "execution_count": null,
   "id": "4ef3019c",
   "metadata": {},
   "outputs": [],
   "source": []
  }
 ],
 "metadata": {
  "kernelspec": {
   "display_name": "Python 3 (ipykernel)",
   "language": "python",
   "name": "python3"
  },
  "language_info": {
   "codemirror_mode": {
    "name": "ipython",
    "version": 3
   },
   "file_extension": ".py",
   "mimetype": "text/x-python",
   "name": "python",
   "nbconvert_exporter": "python",
   "pygments_lexer": "ipython3",
   "version": "3.9.12"
  }
 },
 "nbformat": 4,
 "nbformat_minor": 5
}
