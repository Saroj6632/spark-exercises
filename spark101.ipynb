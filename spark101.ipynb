{
 "cells": [
  {
   "cell_type": "code",
   "execution_count": 2,
   "id": "2de3a8b5",
   "metadata": {},
   "outputs": [
    {
     "name": "stderr",
     "output_type": "stream",
     "text": [
      "Setting default log level to \"WARN\".\n",
      "To adjust logging level use sc.setLogLevel(newLevel). For SparkR, use setLogLevel(newLevel).\n"
     ]
    },
    {
     "name": "stdout",
     "output_type": "stream",
     "text": [
      "22/09/09 17:18:13 WARN NativeCodeLoader: Unable to load native-hadoop library for your platform... using builtin-java classes where applicable\n",
      "22/09/09 20:11:26 WARN HeartbeatReceiver: Removing executor driver with no recent heartbeats: 1460690 ms exceeds timeout 120000 ms\n",
      "22/09/09 20:11:26 WARN SparkContext: Killing executors is not supported by current scheduler.\n"
     ]
    }
   ],
   "source": [
    "import pyspark\n",
    "spark= pyspark.sql.SparkSession.builder.getOrCreate()"
   ]
  },
  {
   "cell_type": "code",
   "execution_count": 5,
   "id": "5d427fa8",
   "metadata": {},
   "outputs": [],
   "source": [
    "import pandas as pd\n",
    "import numpy as np\n",
    "from pydataset import data"
   ]
  },
  {
   "cell_type": "markdown",
   "id": "62bbb387",
   "metadata": {},
   "source": [
    "## Create a spark data frame that contains your favorite programming languages.\n",
    "\n",
    "- The name of the column should be language\n",
    "- View the schema of the dataframe\n",
    "- Output the shape of the dataframe\n",
    "- Show the first 5 records in the dataframe"
   ]
  },
  {
   "cell_type": "code",
   "execution_count": 7,
   "id": "6300efd4",
   "metadata": {},
   "outputs": [],
   "source": [
    "pro_lang=['Python','R','Ruby','Javascript','HTML','CSS','MySQL','AWS','C++', 'C','Scala']"
   ]
  },
  {
   "cell_type": "code",
   "execution_count": 8,
   "id": "2d095d9b",
   "metadata": {},
   "outputs": [
    {
     "data": {
      "text/html": [
       "<div>\n",
       "<style scoped>\n",
       "    .dataframe tbody tr th:only-of-type {\n",
       "        vertical-align: middle;\n",
       "    }\n",
       "\n",
       "    .dataframe tbody tr th {\n",
       "        vertical-align: top;\n",
       "    }\n",
       "\n",
       "    .dataframe thead th {\n",
       "        text-align: right;\n",
       "    }\n",
       "</style>\n",
       "<table border=\"1\" class=\"dataframe\">\n",
       "  <thead>\n",
       "    <tr style=\"text-align: right;\">\n",
       "      <th></th>\n",
       "      <th>language</th>\n",
       "    </tr>\n",
       "  </thead>\n",
       "  <tbody>\n",
       "    <tr>\n",
       "      <th>0</th>\n",
       "      <td>Python</td>\n",
       "    </tr>\n",
       "    <tr>\n",
       "      <th>1</th>\n",
       "      <td>R</td>\n",
       "    </tr>\n",
       "    <tr>\n",
       "      <th>2</th>\n",
       "      <td>Ruby</td>\n",
       "    </tr>\n",
       "    <tr>\n",
       "      <th>3</th>\n",
       "      <td>Javascript</td>\n",
       "    </tr>\n",
       "    <tr>\n",
       "      <th>4</th>\n",
       "      <td>HTML</td>\n",
       "    </tr>\n",
       "    <tr>\n",
       "      <th>5</th>\n",
       "      <td>CSS</td>\n",
       "    </tr>\n",
       "    <tr>\n",
       "      <th>6</th>\n",
       "      <td>MySQL</td>\n",
       "    </tr>\n",
       "    <tr>\n",
       "      <th>7</th>\n",
       "      <td>AWS</td>\n",
       "    </tr>\n",
       "    <tr>\n",
       "      <th>8</th>\n",
       "      <td>C++</td>\n",
       "    </tr>\n",
       "    <tr>\n",
       "      <th>9</th>\n",
       "      <td>C</td>\n",
       "    </tr>\n",
       "    <tr>\n",
       "      <th>10</th>\n",
       "      <td>Scala</td>\n",
       "    </tr>\n",
       "  </tbody>\n",
       "</table>\n",
       "</div>"
      ],
      "text/plain": [
       "      language\n",
       "0       Python\n",
       "1            R\n",
       "2         Ruby\n",
       "3   Javascript\n",
       "4         HTML\n",
       "5          CSS\n",
       "6        MySQL\n",
       "7          AWS\n",
       "8          C++\n",
       "9            C\n",
       "10       Scala"
      ]
     },
     "execution_count": 8,
     "metadata": {},
     "output_type": "execute_result"
    }
   ],
   "source": [
    "# panda dataframe\n",
    "favorite_df = pd.DataFrame({'language':pro_lang})\n",
    "favorite_df"
   ]
  },
  {
   "cell_type": "code",
   "execution_count": 9,
   "id": "d3cb23e5",
   "metadata": {},
   "outputs": [],
   "source": [
    "#spark dataframe\n",
    "fav_prog = spark.createDataFrame(favorite_df)"
   ]
  },
  {
   "cell_type": "code",
   "execution_count": 10,
   "id": "27541a3c",
   "metadata": {},
   "outputs": [
    {
     "name": "stderr",
     "output_type": "stream",
     "text": [
      "\r",
      "[Stage 0:>                                                          (0 + 1) / 1]\r"
     ]
    },
    {
     "name": "stdout",
     "output_type": "stream",
     "text": [
      "+----------+\n",
      "|  language|\n",
      "+----------+\n",
      "|    Python|\n",
      "|         R|\n",
      "|      Ruby|\n",
      "|Javascript|\n",
      "|      HTML|\n",
      "|       CSS|\n",
      "|     MySQL|\n",
      "|       AWS|\n",
      "|       C++|\n",
      "|         C|\n",
      "|     Scala|\n",
      "+----------+\n",
      "\n"
     ]
    },
    {
     "name": "stderr",
     "output_type": "stream",
     "text": [
      "\r",
      "                                                                                \r"
     ]
    }
   ],
   "source": [
    "fav_prog.show()\n"
   ]
  },
  {
   "cell_type": "code",
   "execution_count": 11,
   "id": "466a1483",
   "metadata": {},
   "outputs": [
    {
     "name": "stdout",
     "output_type": "stream",
     "text": [
      "root\n",
      " |-- language: string (nullable = true)\n",
      "\n"
     ]
    }
   ],
   "source": [
    "# schema of dtaframe\n",
    "fav_prog.printSchema()"
   ]
  },
  {
   "cell_type": "code",
   "execution_count": 12,
   "id": "91735755",
   "metadata": {},
   "outputs": [
    {
     "name": "stderr",
     "output_type": "stream",
     "text": [
      "\r",
      "[Stage 2:>                                                          (0 + 4) / 4]\r"
     ]
    },
    {
     "name": "stdout",
     "output_type": "stream",
     "text": [
      "+-------+--------+\n",
      "|summary|language|\n",
      "+-------+--------+\n",
      "|  count|      11|\n",
      "|   mean|    null|\n",
      "| stddev|    null|\n",
      "|    min|     AWS|\n",
      "|    max|   Scala|\n",
      "+-------+--------+\n",
      "\n"
     ]
    },
    {
     "name": "stderr",
     "output_type": "stream",
     "text": [
      "\r",
      "                                                                                \r"
     ]
    }
   ],
   "source": [
    "#shape of data\n",
    "fav_prog.describe().show()"
   ]
  },
  {
   "cell_type": "code",
   "execution_count": 13,
   "id": "90ea9c6f",
   "metadata": {},
   "outputs": [
    {
     "data": {
      "text/plain": [
       "11"
      ]
     },
     "execution_count": 13,
     "metadata": {},
     "output_type": "execute_result"
    }
   ],
   "source": [
    "# another method to check the shape\n",
    "fav_prog.count()"
   ]
  },
  {
   "cell_type": "code",
   "execution_count": 14,
   "id": "6524f323",
   "metadata": {},
   "outputs": [
    {
     "name": "stdout",
     "output_type": "stream",
     "text": [
      "+----------+\n",
      "|  language|\n",
      "+----------+\n",
      "|    Python|\n",
      "|         R|\n",
      "|      Ruby|\n",
      "|Javascript|\n",
      "|      HTML|\n",
      "+----------+\n",
      "only showing top 5 rows\n",
      "\n"
     ]
    }
   ],
   "source": [
    "# first 5 observations\n",
    "fav_prog.show(5)"
   ]
  },
  {
   "cell_type": "markdown",
   "id": "9ffd2102",
   "metadata": {},
   "source": [
    "## Load the mpg dataset as a spark dataframe.\n",
    "\n",
    "### Create 1 column of output that contains a message like the one below:\n",
    "\n",
    "\n",
    "- The 1999 audi a4 has a 4 cylinder engine.\n",
    "For each vehicle.\n",
    "\n",
    "- Transform the trans column so that it only contains either manual or auto."
   ]
  },
  {
   "cell_type": "code",
   "execution_count": 17,
   "id": "c2ce8238",
   "metadata": {},
   "outputs": [
    {
     "name": "stdout",
     "output_type": "stream",
     "text": [
      "+------------+------------------+-----+----+---+----------+---+---+---+---+-------+\n",
      "|manufacturer|             model|displ|year|cyl|     trans|drv|cty|hwy| fl|  class|\n",
      "+------------+------------------+-----+----+---+----------+---+---+---+---+-------+\n",
      "|        audi|                a4|  1.8|1999|  4|  auto(l5)|  f| 18| 29|  p|compact|\n",
      "|        audi|                a4|  1.8|1999|  4|manual(m5)|  f| 21| 29|  p|compact|\n",
      "|        audi|                a4|  2.0|2008|  4|manual(m6)|  f| 20| 31|  p|compact|\n",
      "|        audi|                a4|  2.0|2008|  4|  auto(av)|  f| 21| 30|  p|compact|\n",
      "|        audi|                a4|  2.8|1999|  6|  auto(l5)|  f| 16| 26|  p|compact|\n",
      "|        audi|                a4|  2.8|1999|  6|manual(m5)|  f| 18| 26|  p|compact|\n",
      "|        audi|                a4|  3.1|2008|  6|  auto(av)|  f| 18| 27|  p|compact|\n",
      "|        audi|        a4 quattro|  1.8|1999|  4|manual(m5)|  4| 18| 26|  p|compact|\n",
      "|        audi|        a4 quattro|  1.8|1999|  4|  auto(l5)|  4| 16| 25|  p|compact|\n",
      "|        audi|        a4 quattro|  2.0|2008|  4|manual(m6)|  4| 20| 28|  p|compact|\n",
      "|        audi|        a4 quattro|  2.0|2008|  4|  auto(s6)|  4| 19| 27|  p|compact|\n",
      "|        audi|        a4 quattro|  2.8|1999|  6|  auto(l5)|  4| 15| 25|  p|compact|\n",
      "|        audi|        a4 quattro|  2.8|1999|  6|manual(m5)|  4| 17| 25|  p|compact|\n",
      "|        audi|        a4 quattro|  3.1|2008|  6|  auto(s6)|  4| 17| 25|  p|compact|\n",
      "|        audi|        a4 quattro|  3.1|2008|  6|manual(m6)|  4| 15| 25|  p|compact|\n",
      "|        audi|        a6 quattro|  2.8|1999|  6|  auto(l5)|  4| 15| 24|  p|midsize|\n",
      "|        audi|        a6 quattro|  3.1|2008|  6|  auto(s6)|  4| 17| 25|  p|midsize|\n",
      "|        audi|        a6 quattro|  4.2|2008|  8|  auto(s6)|  4| 16| 23|  p|midsize|\n",
      "|   chevrolet|c1500 suburban 2wd|  5.3|2008|  8|  auto(l4)|  r| 14| 20|  r|    suv|\n",
      "|   chevrolet|c1500 suburban 2wd|  5.3|2008|  8|  auto(l4)|  r| 11| 15|  e|    suv|\n",
      "+------------+------------------+-----+----+---+----------+---+---+---+---+-------+\n",
      "only showing top 20 rows\n",
      "\n"
     ]
    }
   ],
   "source": [
    "#create a mpg spark dataframe\n",
    "mpg = spark.createDataFrame(data('mpg'))\n",
    "mpg.show()"
   ]
  },
  {
   "cell_type": "code",
   "execution_count": 19,
   "id": "e50adc7d",
   "metadata": {},
   "outputs": [],
   "source": [
    "# import functions from pyspark.sql.functions\n",
    "from pyspark.sql.functions import *\n"
   ]
  },
  {
   "cell_type": "code",
   "execution_count": 25,
   "id": "8ede5623",
   "metadata": {},
   "outputs": [
    {
     "name": "stdout",
     "output_type": "stream",
     "text": [
      "+--------------------------------------------------------------------------------+\n",
      "|concat(The , year,  , manufacturer,  , model,  , has a , cyl,  cylinder engine )|\n",
      "+--------------------------------------------------------------------------------+\n",
      "|The 1999 audi a4 has a 4 cylinder engine                                        |\n",
      "|The 1999 audi a4 has a 4 cylinder engine                                        |\n",
      "|The 2008 audi a4 has a 4 cylinder engine                                        |\n",
      "|The 2008 audi a4 has a 4 cylinder engine                                        |\n",
      "|The 1999 audi a4 has a 6 cylinder engine                                        |\n",
      "|The 1999 audi a4 has a 6 cylinder engine                                        |\n",
      "|The 2008 audi a4 has a 6 cylinder engine                                        |\n",
      "|The 1999 audi a4 quattro has a 4 cylinder engine                                |\n",
      "|The 1999 audi a4 quattro has a 4 cylinder engine                                |\n",
      "|The 2008 audi a4 quattro has a 4 cylinder engine                                |\n",
      "|The 2008 audi a4 quattro has a 4 cylinder engine                                |\n",
      "|The 1999 audi a4 quattro has a 6 cylinder engine                                |\n",
      "|The 1999 audi a4 quattro has a 6 cylinder engine                                |\n",
      "|The 2008 audi a4 quattro has a 6 cylinder engine                                |\n",
      "|The 2008 audi a4 quattro has a 6 cylinder engine                                |\n",
      "|The 1999 audi a6 quattro has a 6 cylinder engine                                |\n",
      "|The 2008 audi a6 quattro has a 6 cylinder engine                                |\n",
      "|The 2008 audi a6 quattro has a 8 cylinder engine                                |\n",
      "|The 2008 chevrolet c1500 suburban 2wd has a 8 cylinder engine                   |\n",
      "|The 2008 chevrolet c1500 suburban 2wd has a 8 cylinder engine                   |\n",
      "+--------------------------------------------------------------------------------+\n",
      "only showing top 20 rows\n",
      "\n"
     ]
    }
   ],
   "source": [
    "mpg.select(concat(lit('The '),mpg.year,lit(' '),mpg.manufacturer,lit(' '),mpg.model,lit(' '),lit('has a '), mpg.cyl,lit(' cylinder engine '))).show(truncate=False)"
   ]
  },
  {
   "cell_type": "code",
   "execution_count": 26,
   "id": "082c6916",
   "metadata": {},
   "outputs": [
    {
     "name": "stdout",
     "output_type": "stream",
     "text": [
      "+------------+------------------+-----+----+---+----------+------------+---+---+---+---+-------+\n",
      "|manufacturer|             model|displ|year|cyl|     trans|transmission|drv|cty|hwy| fl|  class|\n",
      "+------------+------------------+-----+----+---+----------+------------+---+---+---+---+-------+\n",
      "|        audi|                a4|  1.8|1999|  4|  auto(l5)|        auto|  f| 18| 29|  p|compact|\n",
      "|        audi|                a4|  1.8|1999|  4|manual(m5)|      manual|  f| 21| 29|  p|compact|\n",
      "|        audi|                a4|  2.0|2008|  4|manual(m6)|      manual|  f| 20| 31|  p|compact|\n",
      "|        audi|                a4|  2.0|2008|  4|  auto(av)|        auto|  f| 21| 30|  p|compact|\n",
      "|        audi|                a4|  2.8|1999|  6|  auto(l5)|        auto|  f| 16| 26|  p|compact|\n",
      "|        audi|                a4|  2.8|1999|  6|manual(m5)|      manual|  f| 18| 26|  p|compact|\n",
      "|        audi|                a4|  3.1|2008|  6|  auto(av)|        auto|  f| 18| 27|  p|compact|\n",
      "|        audi|        a4 quattro|  1.8|1999|  4|manual(m5)|      manual|  4| 18| 26|  p|compact|\n",
      "|        audi|        a4 quattro|  1.8|1999|  4|  auto(l5)|        auto|  4| 16| 25|  p|compact|\n",
      "|        audi|        a4 quattro|  2.0|2008|  4|manual(m6)|      manual|  4| 20| 28|  p|compact|\n",
      "|        audi|        a4 quattro|  2.0|2008|  4|  auto(s6)|        auto|  4| 19| 27|  p|compact|\n",
      "|        audi|        a4 quattro|  2.8|1999|  6|  auto(l5)|        auto|  4| 15| 25|  p|compact|\n",
      "|        audi|        a4 quattro|  2.8|1999|  6|manual(m5)|      manual|  4| 17| 25|  p|compact|\n",
      "|        audi|        a4 quattro|  3.1|2008|  6|  auto(s6)|        auto|  4| 17| 25|  p|compact|\n",
      "|        audi|        a4 quattro|  3.1|2008|  6|manual(m6)|      manual|  4| 15| 25|  p|compact|\n",
      "|        audi|        a6 quattro|  2.8|1999|  6|  auto(l5)|        auto|  4| 15| 24|  p|midsize|\n",
      "|        audi|        a6 quattro|  3.1|2008|  6|  auto(s6)|        auto|  4| 17| 25|  p|midsize|\n",
      "|        audi|        a6 quattro|  4.2|2008|  8|  auto(s6)|        auto|  4| 16| 23|  p|midsize|\n",
      "|   chevrolet|c1500 suburban 2wd|  5.3|2008|  8|  auto(l4)|        auto|  r| 14| 20|  r|    suv|\n",
      "|   chevrolet|c1500 suburban 2wd|  5.3|2008|  8|  auto(l4)|        auto|  r| 11| 15|  e|    suv|\n",
      "+------------+------------------+-----+----+---+----------+------------+---+---+---+---+-------+\n",
      "only showing top 20 rows\n",
      "\n"
     ]
    }
   ],
   "source": [
    "# Transform the trans column so that it only contains either manual or auto.\n",
    "\n",
    "mpg.select( 'manufacturer', 'model', 'displ', 'year', 'cyl', 'trans', regexp_extract('trans', r\"(\\w+)\", 1)\\\n",
    "           .alias('transmission'), 'drv', 'cty', 'hwy', 'fl', 'class').show()"
   ]
  },
  {
   "cell_type": "markdown",
   "id": "90113191",
   "metadata": {},
   "source": [
    "## Load the tips dataset as a spark dataframe.\n",
    "\n",
    "- What percentage of observations are smokers?\n",
    "- Create a column that contains the tip percentage\n",
    "- Calculate the average tip percentage for each combination of sex and smoker."
   ]
  },
  {
   "cell_type": "code",
   "execution_count": 32,
   "id": "bf595df0",
   "metadata": {},
   "outputs": [
    {
     "name": "stdout",
     "output_type": "stream",
     "text": [
      "+----------+----+------+------+---+------+----+\n",
      "|total_bill| tip|   sex|smoker|day|  time|size|\n",
      "+----------+----+------+------+---+------+----+\n",
      "|     16.99|1.01|Female|    No|Sun|Dinner|   2|\n",
      "|     10.34|1.66|  Male|    No|Sun|Dinner|   3|\n",
      "|     21.01| 3.5|  Male|    No|Sun|Dinner|   3|\n",
      "|     23.68|3.31|  Male|    No|Sun|Dinner|   2|\n",
      "|     24.59|3.61|Female|    No|Sun|Dinner|   4|\n",
      "|     25.29|4.71|  Male|    No|Sun|Dinner|   4|\n",
      "|      8.77| 2.0|  Male|    No|Sun|Dinner|   2|\n",
      "|     26.88|3.12|  Male|    No|Sun|Dinner|   4|\n",
      "|     15.04|1.96|  Male|    No|Sun|Dinner|   2|\n",
      "|     14.78|3.23|  Male|    No|Sun|Dinner|   2|\n",
      "|     10.27|1.71|  Male|    No|Sun|Dinner|   2|\n",
      "|     35.26| 5.0|Female|    No|Sun|Dinner|   4|\n",
      "|     15.42|1.57|  Male|    No|Sun|Dinner|   2|\n",
      "|     18.43| 3.0|  Male|    No|Sun|Dinner|   4|\n",
      "|     14.83|3.02|Female|    No|Sun|Dinner|   2|\n",
      "|     21.58|3.92|  Male|    No|Sun|Dinner|   2|\n",
      "|     10.33|1.67|Female|    No|Sun|Dinner|   3|\n",
      "|     16.29|3.71|  Male|    No|Sun|Dinner|   3|\n",
      "|     16.97| 3.5|Female|    No|Sun|Dinner|   3|\n",
      "|     20.65|3.35|  Male|    No|Sat|Dinner|   3|\n",
      "+----------+----+------+------+---+------+----+\n",
      "only showing top 20 rows\n",
      "\n"
     ]
    }
   ],
   "source": [
    "tips_df= spark.createDataFrame(data('tips'))\n",
    "tips_df.show()"
   ]
  },
  {
   "cell_type": "code",
   "execution_count": 33,
   "id": "2316908a",
   "metadata": {},
   "outputs": [
    {
     "data": {
      "text/plain": [
       "38.114754098360656"
      ]
     },
     "execution_count": 33,
     "metadata": {},
     "output_type": "execute_result"
    }
   ],
   "source": [
    "# percentage of smoker\n",
    "(tips_df.filter(tips_df.smoker=='Yes').count()/tips_df.count()) * 100"
   ]
  },
  {
   "cell_type": "code",
   "execution_count": 35,
   "id": "c68851af",
   "metadata": {},
   "outputs": [
    {
     "name": "stdout",
     "output_type": "stream",
     "text": [
      "+----------+----+------+------+---+------+----+------------------+\n",
      "|total_bill| tip|   sex|smoker|day|  time|size|    tip_percentage|\n",
      "+----------+----+------+------+---+------+----+------------------+\n",
      "|     16.99|1.01|Female|    No|Sun|Dinner|   2|5.9446733372572105|\n",
      "|     10.34|1.66|  Male|    No|Sun|Dinner|   3|16.054158607350097|\n",
      "|     21.01| 3.5|  Male|    No|Sun|Dinner|   3|16.658733936220845|\n",
      "|     23.68|3.31|  Male|    No|Sun|Dinner|   2| 13.97804054054054|\n",
      "|     24.59|3.61|Female|    No|Sun|Dinner|   4|14.680764538430255|\n",
      "+----------+----+------+------+---+------+----+------------------+\n",
      "only showing top 5 rows\n",
      "\n"
     ]
    }
   ],
   "source": [
    "# create a column with tips percentage\n",
    "tips_df.select('total_bill', 'tip', 'sex','smoker', 'day','time','size', expr('(tip/total_bill)*100').alias('tip_percentage')).show(5)\n"
   ]
  },
  {
   "cell_type": "code",
   "execution_count": 37,
   "id": "b7e6487e",
   "metadata": {},
   "outputs": [
    {
     "name": "stdout",
     "output_type": "stream",
     "text": [
      "+------+------+-------------------+\n",
      "|   sex|smoker|avg(tip_percentage)|\n",
      "+------+------+-------------------+\n",
      "|  Male|    No|  16.06687151291298|\n",
      "|  Male|   Yes| 15.277117520248513|\n",
      "|Female|    No| 15.692097076918358|\n",
      "|Female|   Yes|  18.21503526994103|\n",
      "+------+------+-------------------+\n",
      "\n"
     ]
    }
   ],
   "source": [
    "#average perentage for each combination of sex and smoker\n",
    "tips_df.select('sex','smoker',expr('(tip/total_bill)*100').alias('tip_percentage')).groupby('sex','smoker').mean('tip_percentage').show()"
   ]
  },
  {
   "cell_type": "markdown",
   "id": "b6270a11",
   "metadata": {},
   "source": [
    "## Use the seattle weather dataset referenced in the lesson to answer the questions below.\n",
    "\n",
    "- Convert the temperatures to fahrenheit.\n",
    "- Which month has the most rain, on average?\n",
    "- Which year was the windiest?\n",
    "- What is the most frequent type of weather in January?\n",
    "- What is the average high and low temperature on sunny days in July in 2013 and 2014?\n",
    "- What percentage of days were rainy in q3 of 2015?\n",
    "- For each year, find what percentage of days it rained (had non-zero precipitation).\n",
    "\n"
   ]
  },
  {
   "cell_type": "code",
   "execution_count": 41,
   "id": "1b03b18a",
   "metadata": {},
   "outputs": [
    {
     "name": "stdout",
     "output_type": "stream",
     "text": [
      "Collecting vega_datasets\n",
      "  Downloading vega_datasets-0.9.0-py3-none-any.whl (210 kB)\n",
      "\u001b[K     |████████████████████████████████| 210 kB 3.2 MB/s eta 0:00:01\n",
      "\u001b[?25hRequirement already satisfied: pandas in /usr/local/anaconda3/lib/python3.9/site-packages (from vega_datasets) (1.4.2)\n",
      "Requirement already satisfied: python-dateutil>=2.8.1 in /usr/local/anaconda3/lib/python3.9/site-packages (from pandas->vega_datasets) (2.8.2)\n",
      "Requirement already satisfied: pytz>=2020.1 in /usr/local/anaconda3/lib/python3.9/site-packages (from pandas->vega_datasets) (2021.3)\n",
      "Requirement already satisfied: numpy>=1.18.5 in /usr/local/anaconda3/lib/python3.9/site-packages (from pandas->vega_datasets) (1.21.5)\n",
      "Requirement already satisfied: six>=1.5 in /usr/local/anaconda3/lib/python3.9/site-packages (from python-dateutil>=2.8.1->pandas->vega_datasets) (1.16.0)\n",
      "Installing collected packages: vega-datasets\n",
      "Successfully installed vega-datasets-0.9.0\n",
      "Note: you may need to restart the kernel to use updated packages.\n"
     ]
    }
   ],
   "source": [
    "pip install vega_datasets"
   ]
  },
  {
   "cell_type": "code",
   "execution_count": 47,
   "id": "b3c98354",
   "metadata": {},
   "outputs": [],
   "source": [
    "from vega_datasets import data\n",
    "import pyspark.sql.functions as f\n",
    "\n"
   ]
  },
  {
   "cell_type": "code",
   "execution_count": 44,
   "id": "95db7660",
   "metadata": {},
   "outputs": [
    {
     "name": "stdout",
     "output_type": "stream",
     "text": [
      "+-------------------+-------------+--------+--------+----+-------+\n",
      "|               date|precipitation|temp_max|temp_min|wind|weather|\n",
      "+-------------------+-------------+--------+--------+----+-------+\n",
      "|2012-01-01 00:00:00|          0.0|    12.8|     5.0| 4.7|drizzle|\n",
      "|2012-01-02 00:00:00|         10.9|    10.6|     2.8| 4.5|   rain|\n",
      "|2012-01-03 00:00:00|          0.8|    11.7|     7.2| 2.3|   rain|\n",
      "|2012-01-04 00:00:00|         20.3|    12.2|     5.6| 4.7|   rain|\n",
      "|2012-01-05 00:00:00|          1.3|     8.9|     2.8| 6.1|   rain|\n",
      "+-------------------+-------------+--------+--------+----+-------+\n",
      "only showing top 5 rows\n",
      "\n"
     ]
    }
   ],
   "source": [
    "# creating a spark dataframe\n",
    "seattle = spark.createDataFrame(data('seattle_weather'))\n",
    "seattle.show(5)\n",
    "\n"
   ]
  },
  {
   "cell_type": "code",
   "execution_count": 45,
   "id": "1a693dc0",
   "metadata": {},
   "outputs": [
    {
     "name": "stdout",
     "output_type": "stream",
     "text": [
      "+-------------------+-------------+----------+----------+\n",
      "|               date|precipitation|max_temp_F|min_temp_F|\n",
      "+-------------------+-------------+----------+----------+\n",
      "|2012-01-01 00:00:00|          0.0|      55.0|      41.0|\n",
      "|2012-01-02 00:00:00|         10.9|      51.0|      37.0|\n",
      "|2012-01-03 00:00:00|          0.8|      53.0|      45.0|\n",
      "|2012-01-04 00:00:00|         20.3|      54.0|      42.0|\n",
      "|2012-01-05 00:00:00|          1.3|      48.0|      37.0|\n",
      "|2012-01-06 00:00:00|          2.5|      40.0|      36.0|\n",
      "|2012-01-07 00:00:00|          0.0|      45.0|      37.0|\n",
      "|2012-01-08 00:00:00|          0.0|      50.0|      37.0|\n",
      "|2012-01-09 00:00:00|          4.3|      49.0|      41.0|\n",
      "|2012-01-10 00:00:00|          1.0|      43.0|      33.0|\n",
      "|2012-01-11 00:00:00|          0.0|      43.0|      30.0|\n",
      "|2012-01-12 00:00:00|          0.0|      43.0|      29.0|\n",
      "|2012-01-13 00:00:00|          0.0|      41.0|      27.0|\n",
      "|2012-01-14 00:00:00|          4.1|      40.0|      33.0|\n",
      "|2012-01-15 00:00:00|          5.3|      34.0|      26.0|\n",
      "|2012-01-16 00:00:00|          2.5|      35.0|      27.0|\n",
      "|2012-01-17 00:00:00|          8.1|      38.0|      32.0|\n",
      "|2012-01-18 00:00:00|         19.8|      32.0|      27.0|\n",
      "|2012-01-19 00:00:00|         15.2|      30.0|      27.0|\n",
      "|2012-01-20 00:00:00|         13.5|      45.0|      30.0|\n",
      "+-------------------+-------------+----------+----------+\n",
      "only showing top 20 rows\n",
      "\n"
     ]
    }
   ],
   "source": [
    "#converting temperature to farenheit\n",
    "seattle.select('date', 'precipitation', expr('ROUND(temp_max * 1.8 + 32)').alias('max_temp_F'),\\\n",
    "               expr('ROUND(temp_min * 1.8 + 32)').alias('min_temp_F')).show()"
   ]
  },
  {
   "cell_type": "code",
   "execution_count": 48,
   "id": "cede6995",
   "metadata": {},
   "outputs": [
    {
     "name": "stdout",
     "output_type": "stream",
     "text": [
      "+-----+-------------------------+\n",
      "|month|average_rainfall_by_month|\n",
      "+-----+-------------------------+\n",
      "|   11|                    642.5|\n",
      "+-----+-------------------------+\n",
      "only showing top 1 row\n",
      "\n"
     ]
    }
   ],
   "source": [
    "# which month has most rain on average?\n",
    "\n",
    "seattle.withColumn('month', f.month('date')).groupBy('month').agg(sum('precipitation').alias('average_rainfall_by_month'))\\\n",
    ".sort(f.desc('average_rainfall_by_month'))\\\n",
    ".show(1)"
   ]
  },
  {
   "cell_type": "code",
   "execution_count": 49,
   "id": "5c0ab9e3",
   "metadata": {},
   "outputs": [
    {
     "name": "stdout",
     "output_type": "stream",
     "text": [
      "+----+--------------------+\n",
      "|year|average_wind_by_year|\n",
      "+----+--------------------+\n",
      "|2012|  1244.6999999999998|\n",
      "+----+--------------------+\n",
      "only showing top 1 row\n",
      "\n"
     ]
    }
   ],
   "source": [
    "#Which year was the windiest?\n",
    "\n",
    "seattle.withColumn('year', f.year('date')).groupBy('year').agg(sum('wind').alias('average_wind_by_year'))\\\n",
    ".sort(f.desc('average_wind_by_year'))\\\n",
    ".show(1)"
   ]
  },
  {
   "cell_type": "code",
   "execution_count": 50,
   "id": "12f756a9",
   "metadata": {},
   "outputs": [
    {
     "name": "stdout",
     "output_type": "stream",
     "text": [
      "+-------+-----+\n",
      "|weather|count|\n",
      "+-------+-----+\n",
      "|    fog|   38|\n",
      "+-------+-----+\n",
      "only showing top 1 row\n",
      "\n"
     ]
    }
   ],
   "source": [
    "#What is the most frequent type of weather in January\n",
    "\n",
    "seattle.filter(f.month('date')==1).groupBy('weather').count().sort(f.desc('count')).show(1)\n"
   ]
  },
  {
   "cell_type": "code",
   "execution_count": 51,
   "id": "0539a702",
   "metadata": {},
   "outputs": [
    {
     "name": "stdout",
     "output_type": "stream",
     "text": [
      "+-----------------+------------------+\n",
      "| average_min_temp|  average_max_temp|\n",
      "+-----------------+------------------+\n",
      "|14.18269230769231|26.828846153846158|\n",
      "+-----------------+------------------+\n",
      "\n"
     ]
    }
   ],
   "source": [
    "#What is the average high and low temperature on sunny days in July in 2013 and 2014?\n",
    "\n",
    "(seattle\n",
    ".filter(col('weather') == 'sun')\n",
    ".where(f.year('date').isin([2013,2014]))\n",
    ".where(f.month('date') == 7)\n",
    "# .groupBy(f.year('date').alias('year'))\n",
    ".agg(avg('temp_min').alias('average_min_temp'),\n",
    "    avg('temp_max').alias('average_max_temp'))\n",
    ".show())"
   ]
  },
  {
   "cell_type": "code",
   "execution_count": 52,
   "id": "46c77894",
   "metadata": {},
   "outputs": [
    {
     "name": "stdout",
     "output_type": "stream",
     "text": [
      "+--------------------+\n",
      "|       Q3 Rainy Days|\n",
      "+--------------------+\n",
      "|0.021739130434782608|\n",
      "+--------------------+\n",
      "\n"
     ]
    }
   ],
   "source": [
    "# What percentage of days were rainy in q3 of 2015?\n",
    "\n",
    "(seattle\n",
    ".filter(f.year('date') == 2015)\n",
    ".where(f.quarter('date') == 3)\n",
    ".select(avg((col('weather') == 'rain')\n",
    "       .cast('int'))\n",
    " .alias('Q3 Rainy Days'))\n",
    ".show())"
   ]
  },
  {
   "cell_type": "code",
   "execution_count": 53,
   "id": "70e8d69f",
   "metadata": {},
   "outputs": [
    {
     "name": "stdout",
     "output_type": "stream",
     "text": [
      "+----------+-----------------------------------------+\n",
      "|year(date)|percentage of non zero precipitation days|\n",
      "+----------+-----------------------------------------+\n",
      "|      2012|                      0.48360655737704916|\n",
      "|      2013|                      0.41643835616438357|\n",
      "|      2014|                        0.410958904109589|\n",
      "|      2015|                      0.39452054794520547|\n",
      "+----------+-----------------------------------------+\n",
      "\n"
     ]
    }
   ],
   "source": [
    "# For each year, find what percentage of days it rained (had non-zero precipitation).\n",
    "(seattle.groupBy(f.year('date'))\n",
    ".agg(avg((col('precipitation') != 0).cast('int')).alias('percentage of non zero precipitation days')).show())"
   ]
  },
  {
   "cell_type": "code",
   "execution_count": null,
   "id": "58ac5373",
   "metadata": {},
   "outputs": [],
   "source": []
  }
 ],
 "metadata": {
  "kernelspec": {
   "display_name": "Python 3 (ipykernel)",
   "language": "python",
   "name": "python3"
  },
  "language_info": {
   "codemirror_mode": {
    "name": "ipython",
    "version": 3
   },
   "file_extension": ".py",
   "mimetype": "text/x-python",
   "name": "python",
   "nbconvert_exporter": "python",
   "pygments_lexer": "ipython3",
   "version": "3.9.12"
  }
 },
 "nbformat": 4,
 "nbformat_minor": 5
}
